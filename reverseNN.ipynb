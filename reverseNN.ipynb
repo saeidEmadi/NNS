{
 "cells": [
  {
   "cell_type": "markdown",
   "id": "fca6b551-a55e-450d-8f57-b2f6556defb0",
   "metadata": {},
   "source": [
    "#### In this step, we will try to detect the active features by stimulating the neural network and by transferring the inputs to the network and following the active paths, using the limited test data (```train.csv```) to recognize each of the numbers."
   ]
  },
  {
   "cell_type": "markdown",
   "id": "5dc5ce68-4958-4939-8359-5cc40de2c259",
   "metadata": {},
   "source": [
    "#### ```alpha``` HyperParameter filtering threshold"
   ]
  },
  {
   "cell_type": "markdown",
   "id": "57443db3-26b8-44b1-8103-e395d34921d5",
   "metadata": {},
   "source": [
    "#### imports"
   ]
  },
  {
   "cell_type": "code",
   "execution_count": null,
   "id": "774cf2a4-3709-4675-a73a-55fe4ffd7521",
   "metadata": {},
   "outputs": [],
   "source": [
    "import numpy as np # matrix cals\n",
    "import pandas as pd # data analys\n",
    "from matplotlib import pyplot as plt # data Visualing\n",
    "import json # for save json format\n",
    "import seaborn as sns # data Visualing and Charts\n",
    "import time # for save image file"
   ]
  },
  {
   "cell_type": "code",
   "execution_count": null,
   "id": "e0efec1b-2cf0-4b9a-8f7d-044c6cad2cce",
   "metadata": {},
   "outputs": [],
   "source": [
    "dataset = pd.read_csv('train.csv') # load Train DataSet"
   ]
  },
  {
   "cell_type": "markdown",
   "id": "94cb145a-2767-48cf-86f4-d6a2f82cc53d",
   "metadata": {},
   "source": [
    "#### load wieghts"
   ]
  },
  {
   "cell_type": "code",
   "execution_count": null,
   "id": "949db686-1ef7-423f-b837-b49eddcc38f6",
   "metadata": {},
   "outputs": [],
   "source": [
    "with open('wgts\\simpleMLPWghts.json', 'r') as openfile:\n",
    "\tjson_object = json.load(openfile)"
   ]
  },
  {
   "cell_type": "code",
   "execution_count": null,
   "id": "125979c9-fd70-45be-8f99-9072accb334e",
   "metadata": {},
   "outputs": [],
   "source": [
    "json_object.keys()"
   ]
  },
  {
   "cell_type": "code",
   "execution_count": null,
   "id": "ea69e1cf-dd6f-4fca-9b89-31d98aef6945",
   "metadata": {},
   "outputs": [],
   "source": [
    "w1 = np.array(json_object['w1'])\n",
    "w2 = np.array(json_object['w2'])\n",
    "b1 = np.array(json_object['b1'])\n",
    "b2 = np.array(json_object['b2'])"
   ]
  },
  {
   "cell_type": "markdown",
   "id": "8cc07f34-e854-42df-8b01-77fbcf3712d0",
   "metadata": {},
   "source": [
    "#### Layer Montioring"
   ]
  },
  {
   "cell_type": "code",
   "execution_count": null,
   "id": "8dacdf6e-4622-4cc0-862b-53d9c8991770",
   "metadata": {},
   "outputs": [],
   "source": [
    "def firstLayer(X,w1,b1):\n",
    "    return ReLU(w1.dot(X) + b1)"
   ]
  },
  {
   "cell_type": "code",
   "execution_count": null,
   "id": "ef0bd648-4baa-44d3-a72b-73a6976bd8b3",
   "metadata": {},
   "outputs": [],
   "source": [
    "def ReLU(Z):\n",
    "    return np.maximum(Z, 0)"
   ]
  },
  {
   "cell_type": "code",
   "execution_count": null,
   "id": "44869154-8b01-496c-8a43-241059290ce8",
   "metadata": {},
   "outputs": [],
   "source": [
    "def softmax(Z):\n",
    "    return  np.exp(Z) / sum(np.exp(Z))"
   ]
  },
  {
   "cell_type": "code",
   "execution_count": null,
   "id": "4213d145-7e86-436a-a1a8-6df05978e618",
   "metadata": {},
   "outputs": [],
   "source": [
    "for i in range(10):\n",
    "    values = np.array(dataset[:1000].query(f'label == {i}').T)   # peak vals\n",
    "    value = values[1:] # choise image data\n",
    "    value = value / 255.  # normalize\n",
    "    plt.subplot(4,3,i+1)\n",
    "    for j in range(len(value[0])):\n",
    "        plt.plot(firstLayer(value[:,j,None],w1,b1), label=f'Img{j}')\n",
    "plt.savefig(f\"res\\LayerMonitoring_Num{i}_{time.time() / 1000}.jpg\")\n",
    "plt.show()"
   ]
  },
  {
   "cell_type": "code",
   "execution_count": null,
   "id": "9a0da83f-ea99-41d5-b77c-e7c80b309db4",
   "metadata": {},
   "outputs": [],
   "source": [
    "heat = []\n",
    "firstLayers = []\n",
    "for k in range(10):\n",
    "    values = np.array(dataset[:1000].query(f'label == {k}').T)   # peak vals\n",
    "    value = values[1:] # choise image data\n",
    "    value = value / 255.  # normalize\n",
    "    newList1 = []\n",
    "    plt.subplot(4,3,k+1)\n",
    "    heat.append([])\n",
    "    heat[k] = 100 * [0]\n",
    "    for j in range(len(value[0])):\n",
    "        firstLayers = firstLayer(value[:,j,None],w1,b1)\n",
    "    for i in range(len(firstLayers)):\n",
    "        newList1.append([])\n",
    "        for j in range(100):\n",
    "            newList1[i].append(firstLayers[j][0])\n",
    "            heat[k][j] += firstLayers[j][0]\n",
    "    sns.heatmap(np.transpose(newList1))\n",
    "plt.savefig(f\"res\\LayerMonitoringNodes_Num{k}_{time.time() / 1000}.jpg\")\n",
    "plt.show()"
   ]
  },
  {
   "cell_type": "code",
   "execution_count": null,
   "id": "0c7bcd8d-0773-4a43-9bc9-be669ffa4405",
   "metadata": {},
   "outputs": [],
   "source": [
    "heatSNS = sns.heatmap(np.transpose(heat), cmap=sns.cubehelix_palette(as_cmap=True))\n",
    "plt.savefig(f\"res\\LayerMonitoringNodesAcumalator{time.time()}.jpg\")\n",
    "plt.show()"
   ]
  },
  {
   "cell_type": "markdown",
   "id": "bb89f6fb-aa7c-4b53-8387-39048f0ff95f",
   "metadata": {},
   "source": [
    "### filter Maxs [Average node Values for each epoch itereition]"
   ]
  },
  {
   "cell_type": "code",
   "execution_count": null,
   "id": "d15eecbc-ddcc-4db7-acf1-3d5af3cb4b7c",
   "metadata": {},
   "outputs": [],
   "source": [
    "numberOfOperate = 0 # each Layer for each number\n",
    "alpha = 0.4 # HyperParameter filtering threshold "
   ]
  },
  {
   "cell_type": "code",
   "execution_count": null,
   "id": "991cd342-3e0c-4aeb-8c48-38b375a071d2",
   "metadata": {},
   "outputs": [],
   "source": [
    "datas = np.array(dataset[:1000].query(f'label == {numberOfOperate}'))"
   ]
  },
  {
   "cell_type": "code",
   "execution_count": null,
   "id": "f5378c73-17b8-48d8-8bf4-202180cadd63",
   "metadata": {},
   "outputs": [],
   "source": [
    "dataBox = datas.T\n",
    "numsX = dataBox[1:]\n",
    "numsY = dataBox[0]\n",
    "numsX = numsX / 255."
   ]
  },
  {
   "cell_type": "code",
   "execution_count": null,
   "id": "2ba364ff-abd6-4f60-822c-d64f3cabfd7d",
   "metadata": {},
   "outputs": [],
   "source": [
    "firstLayers = []\n",
    "for i in range(len(numsX[0])):\n",
    "    firstLayers.append(ReLU(w1.dot(numsX[:,i,None])+ b1))"
   ]
  },
  {
   "cell_type": "code",
   "execution_count": null,
   "id": "e4fc4ccf-e93e-4241-9452-39381dec609c",
   "metadata": {},
   "outputs": [],
   "source": [
    "newList1 = []\n",
    "for i in range(len(firstLayers)):\n",
    "    newList1.append([])\n",
    "    for j in range(100):\n",
    "        newList1[i].append(firstLayers[i][j][0])"
   ]
  },
  {
   "cell_type": "code",
   "execution_count": null,
   "id": "4832f359-777c-486c-b896-bbfae4e40229",
   "metadata": {},
   "outputs": [],
   "source": [
    "sns.heatmap(np.transpose(newList1))\n",
    "plt.savefig(f\"res\\REV_LayerNodeMonitoring_{numberOfOperate}_alpha{alpha}_{time.time()}.jpg\")\n",
    "plt.show()"
   ]
  },
  {
   "cell_type": "code",
   "execution_count": null,
   "id": "5fe79d6f-422a-4204-9ad1-a21bc1c4a0ba",
   "metadata": {},
   "outputs": [],
   "source": [
    "FirstLayerMean = []\n",
    "for i in range(100):\n",
    "    FirstLayerMean.append(np.mean(np.transpose(newList1)[i]))"
   ]
  },
  {
   "cell_type": "code",
   "execution_count": null,
   "id": "84cf7de7-7d10-4f9e-926e-43baab8b18bc",
   "metadata": {},
   "outputs": [],
   "source": [
    "sns.heatmap(np.transpose((FirstLayerMean,)))\n",
    "plt.savefig(f\"res\\REV_LayerNodeMonitoringAverage_{numberOfOperate}_alpha{alpha}_{time.time()}_WithOutsoftmax.jpg\")\n",
    "plt.show()"
   ]
  },
  {
   "cell_type": "code",
   "execution_count": null,
   "id": "6fa93924-45ec-4ece-b999-bd15a8a07100",
   "metadata": {},
   "outputs": [],
   "source": [
    "\n",
    "FirstLayerMean = softmax(FirstLayerMean)\n",
    "sns.heatmap(np.transpose((FirstLayerMean,)))\n",
    "plt.savefig(f\"res\\REV_LayerNodeMonitoringAverage_{numberOfOperate}_alpha{alpha}_{time.time()}_softmax.jpg\")\n",
    "plt.show()\n"
   ]
  },
  {
   "cell_type": "code",
   "execution_count": null,
   "id": "cd2190bc-327a-4cc0-ae1c-fca04342f04a",
   "metadata": {},
   "outputs": [],
   "source": [
    "for i in range(len(FirstLayerMean)):\n",
    "    if FirstLayerMean[i] < max(FirstLayerMean)*alpha : \n",
    "        FirstLayerMean[i] = 0"
   ]
  },
  {
   "cell_type": "code",
   "execution_count": null,
   "id": "aaf62e16-2d50-4059-bc88-63018791291c",
   "metadata": {},
   "outputs": [],
   "source": [
    "sns.heatmap(np.transpose((FirstLayerMean,)))\n",
    "plt.savefig(f\"res\\REV_LayerNodeMonitoringAverage_{numberOfOperate}\\\n",
    "    _alpha{alpha}_AfterFiltering_{time.time()}_WithOutsoftmax.jpg\")\n",
    "plt.show()"
   ]
  },
  {
   "cell_type": "code",
   "execution_count": null,
   "id": "f8849733-660f-4821-a88e-2905c66ca918",
   "metadata": {},
   "outputs": [],
   "source": [
    "\n",
    "sns.heatmap(np.transpose((FirstLayerMean,)))\n",
    "plt.savefig(f\"res\\REV_LayerNodeMonitoringAverage_{numberOfOperate}\\\n",
    "    _alpha{alpha}_AfterFiltering_{time.time()}_softmax.jpg\")\n",
    "plt.show()\n"
   ]
  },
  {
   "cell_type": "code",
   "execution_count": null,
   "id": "dde5d1ae-234d-46e2-8bf3-6317c513ad90",
   "metadata": {},
   "outputs": [],
   "source": [
    "rvW1AfterFiltering = w1.copy()"
   ]
  },
  {
   "cell_type": "code",
   "execution_count": null,
   "id": "bfb3f3e5-2e05-497c-8d40-42042254ebbb",
   "metadata": {},
   "outputs": [],
   "source": [
    "numOfParams = 0\n",
    "for i in range(rvW1AfterFiltering.shape[0]):\n",
    "    if FirstLayerMean[i] == 0 :\n",
    "        rvW1AfterFiltering[i] =  np.zeros((1,784)).tolist()[0]\n",
    "    else :\n",
    "        numOfParams += len(rvW1AfterFiltering[i])\n",
    "print(f\"Params count : {numOfParams}\")"
   ]
  },
  {
   "cell_type": "code",
   "execution_count": null,
   "id": "b4e23eb7-b055-4ba4-a411-4ba5abce045a",
   "metadata": {},
   "outputs": [],
   "source": [
    "\n",
    "sns.heatmap(rvW1AfterFiltering)\n",
    "plt.savefig(f\"res\\REV_LayerNodeMonitoringAverage_ \\\n",
    "            {numberOfOperate}_alpha{alpha}_NewW1AfterFiltering_{time.time()}_WithOutsoftmax.jpg\")\n",
    "plt.show()\n"
   ]
  },
  {
   "cell_type": "code",
   "execution_count": null,
   "id": "0392d8d5-12d3-49de-af00-fe8d6c9e2b66",
   "metadata": {},
   "outputs": [],
   "source": [
    "\n",
    "sns.heatmap(rvW1AfterFiltering)\n",
    "plt.savefig(f\"res\\REV_LayerNodeMonitoringAverage_{numberOfOperate}\\\n",
    "    _alpha{alpha}_NewW1AfterFiltering_{time.time()}_softmax.jpg\")\n",
    "plt.show()\n"
   ]
  },
  {
   "cell_type": "markdown",
   "id": "f5a94a77-fdce-4966-856f-0926eb73beb5",
   "metadata": {},
   "source": [
    "### Comparison of accuracies"
   ]
  },
  {
   "cell_type": "code",
   "execution_count": null,
   "id": "c09ca050-b31b-4fe8-be45-3e04f654eb20",
   "metadata": {
    "tags": []
   },
   "outputs": [],
   "source": [
    "truesAfter = 0\n",
    "truesBefor = 0\n",
    "for pr in range(len(numsY)):\n",
    "    if numsY[pr] == np.argmax(softmax(w2.dot(ReLU(rvW1AfterFiltering.dot(numsX[:,pr ,None])+ b1)) + b2)):\n",
    "        truesAfter += 1\n",
    "    if numsY[pr] == np.argmax(softmax(w2.dot(ReLU(w1.dot(numsX[:,pr ,None])+ b1)) + b2)):\n",
    "        truesBefor += 1\n",
    "print(\"Befor Filter Acc : \" , truesBefor / len(numsY))\n",
    "print(\"After Filter Acc : \" , truesAfter / len(numsY))"
   ]
  },
  {
   "cell_type": "markdown",
   "id": "156bd170-066f-43cc-b460-235e2c456432",
   "metadata": {},
   "source": [
    "### Save Special Weights"
   ]
  },
  {
   "cell_type": "markdown",
   "id": "18609c6c-f346-4c86-9e22-3cdee0792fe6",
   "metadata": {},
   "source": [
    "- #### basic Save Weights to json file"
   ]
  },
  {
   "cell_type": "code",
   "execution_count": null,
   "id": "06659eb8-cf70-411a-9960-75f34c1587f4",
   "metadata": {},
   "outputs": [],
   "source": [
    "res = {\n",
    "\t\"w1\": rvW1AfterFiltering.tolist(),\n",
    "\t\"w2\": w2.tolist(),\n",
    "    \"b1\": b1.tolist(),\n",
    "\t\"b2\": b2.tolist()\n",
    "}\n",
    "json_object = json.dumps(res, indent=4)\n",
    "with open(f\"wgts\\simpleMLPSpecial{numberOfOperate}_alpha{alpha}_Wghts.json\", \"w\") as outfile:\n",
    "\toutfile.write(json_object)"
   ]
  },
  {
   "cell_type": "markdown",
   "id": "e6aa45cf-f23f-4ffd-92c3-e62a268b59fb",
   "metadata": {},
   "source": [
    "- ####  Vectorizer : Save Vector Weights to json file"
   ]
  },
  {
   "cell_type": "code",
   "execution_count": null,
   "id": "5f64105c-344a-4cba-9802-fa132f7fd4be",
   "metadata": {},
   "outputs": [],
   "source": [
    "rvW1AfterFilteringDict = []\n",
    "for i in range(rvW1AfterFiltering.shape[0]):\n",
    "    if FirstLayerMean[i] != 0 :\n",
    "        rvW1AfterFilteringDict.append((i , rvW1AfterFiltering[i].tolist()))"
   ]
  },
  {
   "cell_type": "code",
   "execution_count": null,
   "id": "ebbe52e5-47c1-4eb2-a829-c5f05eefeb53",
   "metadata": {},
   "outputs": [],
   "source": [
    "res = {\n",
    "\t\"w1\": rvW1AfterFilteringDict.tolist(),\n",
    "\t\"w2\": w2.tolist(),\n",
    "    \"b1\": b1.tolist(),\n",
    "\t\"b2\": b2.tolist()\n",
    "}\n",
    "json_object = json.dumps(res, indent=4)\n",
    "with open(f\"wgts\\simpleMLPSpecial{numberOfOperate}_alpha{alpha}_WghtsVectorized.json\", \"w\") as outfile:\n",
    "\toutfile.write(json_object)"
   ]
  },
  {
   "cell_type": "markdown",
   "id": "5890dc67-dc06-4a58-8da8-50cd015998eb",
   "metadata": {},
   "source": [
    "### Integeration Weights"
   ]
  },
  {
   "cell_type": "markdown",
   "id": "7cc68a3f-1df4-4624-a74b-20b00f878b60",
   "metadata": {},
   "source": [
    "- #### simple weights"
   ]
  },
  {
   "cell_type": "code",
   "execution_count": null,
   "id": "1b4e5b6e-9585-4c94-add4-a25be579bfbd",
   "metadata": {},
   "outputs": [],
   "source": [
    "w1 = np.zeros((100,784))\n",
    "for i in range(10):\n",
    "    with open(f\"wgts\\simpleMLPSpecial{i}_alpha{alpha}_Wghts.json\", \"r\") as openfile:\n",
    "        json_object = json.load(openfile)\n",
    "    tmpw1 = np.array(json_object['w1'])\n",
    "    for j in range(len(tmpw1)):\n",
    "        if sum(w1[j]) == 0:\n",
    "            w1[j] = tmpw1[j]"
   ]
  },
  {
   "cell_type": "code",
   "execution_count": null,
   "id": "7eecd33b-8405-4cab-8714-4fca64c983fe",
   "metadata": {},
   "outputs": [],
   "source": [
    "sns.heatmap(w1)\n",
    "plt.savefig(f\"res\\REV_LayerNodeMonitoringAverageFinalWghts_ \\\n",
    "            {numberOfOperate}_alpha{alpha}_NewW1AfterFiltering_{time.time()/1000}_Accms.jpg\")\n",
    "plt.show()"
   ]
  },
  {
   "cell_type": "markdown",
   "id": "0116a556-4646-4657-8dc9-dc101558ebaf",
   "metadata": {},
   "source": [
    "- #### vectorized weights"
   ]
  },
  {
   "cell_type": "code",
   "execution_count": null,
   "id": "7e6f19e8-245f-4ab7-9b75-b90705ba49f5",
   "metadata": {},
   "outputs": [],
   "source": [
    "w1 = np.zeros((100,784))\n",
    "for i in range(10):\n",
    "    with open(f\"wgts\\simpleMLPSpecial{i}_alpha{alpha}_WghtsVectorized.json\", 'r') as openfile:\n",
    "        json_object = json.load(openfile)\n",
    "    for j in range(len(json_object['w1'])):\n",
    "        if sum(w1[json_object['w1'][j][0]]) == 0:\n",
    "            w1[json_object['w1'][j][0]] = json_object['w1'][j][1]"
   ]
  },
  {
   "cell_type": "code",
   "execution_count": null,
   "id": "de06a4a6-b155-4532-a35c-3e9d8177d62b",
   "metadata": {},
   "outputs": [],
   "source": [
    "sns.heatmap(w1)\n",
    "plt.savefig(f\"res\\REV_LayerNodeMonitoringAverageFinalWghts_ \\\n",
    "            {numberOfOperate}_alpha{alpha}_NewW1AfterFiltering_{time.time()/1000}_Accms.jpg\")\n",
    "plt.show()"
   ]
  },
  {
   "cell_type": "markdown",
   "id": "8eb9ddaf-deb6-4ef7-ad9d-5703a5065678",
   "metadata": {},
   "source": [
    "### Save comprased weights"
   ]
  },
  {
   "cell_type": "markdown",
   "id": "73c6e36f-8e1d-4415-beac-f90d184b75f9",
   "metadata": {},
   "source": [
    "- #### Save Simple comprased weights"
   ]
  },
  {
   "cell_type": "code",
   "execution_count": null,
   "id": "05b6d1a1-07e8-4502-862f-8d1061f81a2d",
   "metadata": {},
   "outputs": [],
   "source": [
    "res = {\n",
    "\t\"w1\": w1.tolist(),\n",
    "\t\"w2\": w2.tolist(),\n",
    "    \"b1\": b1.tolist(),\n",
    "\t\"b2\": b2.tolist()\n",
    "}\n",
    "json_object = json.dumps(res, indent=4)\n",
    "with open(f\"wgts\\simpleMLPFinalComprased_alpha{alpha}.json\", \"w\") as outfile:\n",
    "\toutfile.write(json_object)"
   ]
  },
  {
   "cell_type": "markdown",
   "id": "c81ca2b1-f34c-4513-9179-1b521061a8bf",
   "metadata": {},
   "source": [
    "- #### Save vectorized comprased weights"
   ]
  },
  {
   "cell_type": "code",
   "execution_count": null,
   "id": "57d40242-39e4-4b8c-8bff-cebe4a99f025",
   "metadata": {},
   "outputs": [],
   "source": [
    "rvW1AfterFilteringDict = []\n",
    "for i in range(w1.shape[0]):\n",
    "    if sum(w1[i]) != 0 :\n",
    "        rvW1AfterFilteringDict.append((i , w1[i].tolist()))"
   ]
  },
  {
   "cell_type": "code",
   "execution_count": null,
   "id": "405e3f3c-8d34-4a0e-8cbe-c247c1ba434d",
   "metadata": {},
   "outputs": [],
   "source": [
    "res = {\n",
    "\t\"w1\": rvW1AfterFilteringDict,\n",
    "\t\"w2\": w2.tolist(),\n",
    "    \"b1\": b1.tolist(),\n",
    "\t\"b2\": b2.tolist()\n",
    "}\n",
    "json_object = json.dumps(res, indent=4)\n",
    "with open(f\"wgts\\simpleMLPFinalComprasedWghtsVectorized_alpha{alpha}.json\", \"w\") as outfile:\n",
    "\toutfile.write(json_object)"
   ]
  },
  {
   "cell_type": "markdown",
   "id": "6618573a-4374-4099-ba42-a1d2123560a2",
   "metadata": {},
   "source": [
    "### accuracy for each number : "
   ]
  },
  {
   "cell_type": "code",
   "execution_count": null,
   "id": "553406ea-80c4-436b-89fd-3c4c6c490409",
   "metadata": {},
   "outputs": [],
   "source": [
    "def get_accuracy(predictions, Y):\n",
    "    return np.sum(predictions == Y) / Y.size"
   ]
  },
  {
   "cell_type": "markdown",
   "id": "9ae94e0c-62ad-4012-b133-676b94039818",
   "metadata": {},
   "source": [
    "#### Load comprased weights"
   ]
  },
  {
   "cell_type": "markdown",
   "id": "de3a804a-faab-49a2-84ef-2bad8a678d5b",
   "metadata": {},
   "source": [
    "- ##### Load Simple comprased weights"
   ]
  },
  {
   "cell_type": "code",
   "execution_count": null,
   "id": "992d3ddc-f3f1-441b-b389-84e018cc6801",
   "metadata": {},
   "outputs": [],
   "source": [
    "with open(f\"wgts\\simpleMLPFinalComprased_alpha{alpha}.json\", \"r\") as openfile:\n",
    "    json_object = json.load(openfile)\n",
    "w1 = np.array(json_object['w1'])\n",
    "w2 = np.array(json_object['w2'])\n",
    "b1 = np.array(json_object['b1'])\n",
    "b2 = np.array(json_object['b2'])"
   ]
  },
  {
   "cell_type": "code",
   "execution_count": null,
   "id": "948df205-cc31-4726-8f12-6e0c796cdb16",
   "metadata": {},
   "outputs": [],
   "source": [
    "for i in range(10):\n",
    "    values = np.array(dataset[:1000].query(f'label == {i}').T)   # peak vals\n",
    "    valueY = values[0]\n",
    "    valueX = values[1:] # choise image data\n",
    "    valueX = valueX / 255.  # normalize\n",
    "    print(f\"Accuracy {i} : \",get_accuracy(np.argmax(softmax(w2.dot(ReLU(w1.dot(valueX) + b1)) + b2),0), valueY))"
   ]
  },
  {
   "cell_type": "markdown",
   "id": "8c3a4f9d-ebb0-42d8-adc6-eb0812a36d08",
   "metadata": {},
   "source": [
    "- ##### Load Vectorized comprased weights"
   ]
  },
  {
   "cell_type": "code",
   "execution_count": null,
   "id": "2f3e0427-9f45-43c7-9c24-a40f15319f14",
   "metadata": {},
   "outputs": [],
   "source": [
    "with open(f\"wgts\\simpleMLPFinalComprasedWghtsVectorized_alpha{alpha}.json\",\"r\") as openfile:\n",
    "    json_object = json.load(openfile)\n",
    "tmpw1 = json_object['w1']\n",
    "w2 = np.array(json_object['w2'])\n",
    "b1 = np.array(json_object['b1'])\n",
    "b2 = np.array(json_object['b2'])"
   ]
  },
  {
   "cell_type": "code",
   "execution_count": null,
   "id": "4847474b-8432-47b2-a2f4-c893fa53b679",
   "metadata": {},
   "outputs": [],
   "source": [
    "w1 = np.zeros((100,784))\n",
    "for i in range(len(tmpw1)):\n",
    "    w1[tmpw1[i][0]] = tmpw1[i][1]"
   ]
  },
  {
   "cell_type": "code",
   "execution_count": null,
   "id": "7089e7e2-d960-428e-907f-0661c4ce006a",
   "metadata": {
    "tags": []
   },
   "outputs": [],
   "source": [
    "for i in range(10):\n",
    "    values = np.array(dataset[:1000].query(f'label == {i}').T)   # peak vals\n",
    "    valueY = values[0]\n",
    "    valueX = values[1:] # choise image data\n",
    "    valueX = valueX / 255.  # normalize\n",
    "    print(f\"Accuracy {i} : \",get_accuracy(np.argmax(softmax(w2.dot(ReLU(w1.dot(valueX) + b1)) + b2),0), valueY))"
   ]
  },
  {
   "cell_type": "code",
   "execution_count": null,
   "id": "8e624825-371a-4224-abfb-1aadf3abd78a",
   "metadata": {},
   "outputs": [],
   "source": []
  }
 ],
 "metadata": {
  "kernelspec": {
   "display_name": "Python 3 (ipykernel)",
   "language": "python",
   "name": "python3"
  },
  "language_info": {
   "codemirror_mode": {
    "name": "ipython",
    "version": 3
   },
   "file_extension": ".py",
   "mimetype": "text/x-python",
   "name": "python",
   "nbconvert_exporter": "python",
   "pygments_lexer": "ipython3",
   "version": "3.9.13"
  }
 },
 "nbformat": 4,
 "nbformat_minor": 5
}
